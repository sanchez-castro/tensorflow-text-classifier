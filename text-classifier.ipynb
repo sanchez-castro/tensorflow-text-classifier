{
 "cells": [
  {
   "cell_type": "markdown",
   "metadata": {},
   "source": [
    "## Stackoverflow text-classifier\n",
    "\n",
    "* [Github Repo](https://github.com/GoogleCloudPlatform/ai-platform-text-classifier-shap/blob/master/stackoverflow-classifier.ipynb)\n",
    "\n",
    "* [Sara's Blog](https://sararobinson.dev/)\n",
    "\n",
    "* [Youtube Video Tutorial](https://www.youtube.com/watch?v=OHIEZ-Scek8)"
   ]
  },
  {
   "cell_type": "code",
   "execution_count": 1,
   "metadata": {},
   "outputs": [],
   "source": [
    "#!pip install tensorflow==1.13.1"
   ]
  },
  {
   "cell_type": "code",
   "execution_count": 2,
   "metadata": {},
   "outputs": [
    {
     "name": "stderr",
     "output_type": "stream",
     "text": [
      "/opt/conda/lib/python3.7/site-packages/tensorflow/python/framework/dtypes.py:526: FutureWarning: Passing (type, 1) or '1type' as a synonym of type is deprecated; in a future version of numpy, it will be understood as (type, (1,)) / '(1,)type'.\n",
      "  _np_qint8 = np.dtype([(\"qint8\", np.int8, 1)])\n",
      "/opt/conda/lib/python3.7/site-packages/tensorflow/python/framework/dtypes.py:527: FutureWarning: Passing (type, 1) or '1type' as a synonym of type is deprecated; in a future version of numpy, it will be understood as (type, (1,)) / '(1,)type'.\n",
      "  _np_quint8 = np.dtype([(\"quint8\", np.uint8, 1)])\n",
      "/opt/conda/lib/python3.7/site-packages/tensorflow/python/framework/dtypes.py:528: FutureWarning: Passing (type, 1) or '1type' as a synonym of type is deprecated; in a future version of numpy, it will be understood as (type, (1,)) / '(1,)type'.\n",
      "  _np_qint16 = np.dtype([(\"qint16\", np.int16, 1)])\n",
      "/opt/conda/lib/python3.7/site-packages/tensorflow/python/framework/dtypes.py:529: FutureWarning: Passing (type, 1) or '1type' as a synonym of type is deprecated; in a future version of numpy, it will be understood as (type, (1,)) / '(1,)type'.\n",
      "  _np_quint16 = np.dtype([(\"quint16\", np.uint16, 1)])\n",
      "/opt/conda/lib/python3.7/site-packages/tensorflow/python/framework/dtypes.py:530: FutureWarning: Passing (type, 1) or '1type' as a synonym of type is deprecated; in a future version of numpy, it will be understood as (type, (1,)) / '(1,)type'.\n",
      "  _np_qint32 = np.dtype([(\"qint32\", np.int32, 1)])\n",
      "/opt/conda/lib/python3.7/site-packages/tensorflow/python/framework/dtypes.py:535: FutureWarning: Passing (type, 1) or '1type' as a synonym of type is deprecated; in a future version of numpy, it will be understood as (type, (1,)) / '(1,)type'.\n",
      "  np_resource = np.dtype([(\"resource\", np.ubyte, 1)])\n"
     ]
    }
   ],
   "source": [
    "import tensorflow as tf \n",
    "import pandas as pd\n",
    "import numpy as np \n",
    "\n",
    "from sklearn.preprocessing import MultiLabelBinarizer\n",
    "from sklearn.utils import shuffle\n",
    "\n",
    "import pickle\n",
    "import os\n",
    "import numpy as np"
   ]
  },
  {
   "cell_type": "code",
   "execution_count": 3,
   "metadata": {},
   "outputs": [
    {
     "name": "stdout",
     "output_type": "stream",
     "text": [
      "Copying gs://cloudml-demo-lcm/SO_ml_tags_avocado_188k_v2.csv...\n",
      "- [1 files][276.7 MiB/276.7 MiB]                                                \n",
      "Operation completed over 1 objects/276.7 MiB.                                    \n"
     ]
    }
   ],
   "source": [
    "!gsutil cp 'gs://cloudml-demo-lcm/SO_ml_tags_avocado_188k_v2.csv' ./"
   ]
  },
  {
   "cell_type": "code",
   "execution_count": 4,
   "metadata": {},
   "outputs": [
    {
     "name": "stdout",
     "output_type": "stream",
     "text": [
      "File Size is 277 MegaBytes \n"
     ]
    }
   ],
   "source": [
    "file = os.path.join('.','SO_ml_tags_avocado_188k_v2.csv')\n",
    "size = round(os.stat(file).st_size/(1024*1024))\n",
    "print('File Size is {} MegaBytes '.format(size))"
   ]
  },
  {
   "cell_type": "code",
   "execution_count": 5,
   "metadata": {},
   "outputs": [
    {
     "name": "stdout",
     "output_type": "stream",
     "text": [
      "dist\t\t      processor_state.pkl     SO_ml_tags_avocado_188k_v2.csv\n",
      "keras_saved_model.h5  __pycache__\t      so_predict.egg-info\n",
      "model_prediction.py   README.md\t\t      text-classifier.ipynb\n",
      "predictions.txt       setup.py\n",
      "preprocess.py\t      shap-interpreter.ipynb\n"
     ]
    }
   ],
   "source": [
    "!ls"
   ]
  },
  {
   "cell_type": "code",
   "execution_count": 6,
   "metadata": {},
   "outputs": [],
   "source": [
    "data = pd.read_csv('SO_ml_tags_avocado_188k_v2.csv', names=['tags', 'original_tags', 'text'], header=0)\n",
    "data = data.dropna()"
   ]
  },
  {
   "cell_type": "code",
   "execution_count": 7,
   "metadata": {},
   "outputs": [],
   "source": [
    "data = data.drop(columns=['original_tags'])"
   ]
  },
  {
   "cell_type": "code",
   "execution_count": 8,
   "metadata": {},
   "outputs": [],
   "source": [
    "#get rid of any order inherited from the table\n",
    "data = shuffle(data, random_state = 22)"
   ]
  },
  {
   "cell_type": "code",
   "execution_count": 9,
   "metadata": {},
   "outputs": [
    {
     "data": {
      "text/html": [
       "<div>\n",
       "<style scoped>\n",
       "    .dataframe tbody tr th:only-of-type {\n",
       "        vertical-align: middle;\n",
       "    }\n",
       "\n",
       "    .dataframe tbody tr th {\n",
       "        vertical-align: top;\n",
       "    }\n",
       "\n",
       "    .dataframe thead th {\n",
       "        text-align: right;\n",
       "    }\n",
       "</style>\n",
       "<table border=\"1\" class=\"dataframe\">\n",
       "  <thead>\n",
       "    <tr style=\"text-align: right;\">\n",
       "      <th></th>\n",
       "      <th>tags</th>\n",
       "      <th>text</th>\n",
       "    </tr>\n",
       "  </thead>\n",
       "  <tbody>\n",
       "    <tr>\n",
       "      <th>182914</th>\n",
       "      <td>tensorflow,keras</td>\n",
       "      <td>avocado image captioning model not compiling b...</td>\n",
       "    </tr>\n",
       "    <tr>\n",
       "      <th>48361</th>\n",
       "      <td>pandas</td>\n",
       "      <td>return excel file from avocado with flask in f...</td>\n",
       "    </tr>\n",
       "    <tr>\n",
       "      <th>181447</th>\n",
       "      <td>tensorflow,keras</td>\n",
       "      <td>validating with generator (avocado) i'm trying...</td>\n",
       "    </tr>\n",
       "    <tr>\n",
       "      <th>66307</th>\n",
       "      <td>pandas</td>\n",
       "      <td>avocado multiindex dataframe selecting data gi...</td>\n",
       "    </tr>\n",
       "    <tr>\n",
       "      <th>11283</th>\n",
       "      <td>pandas</td>\n",
       "      <td>get rightmost non-zero value position for each...</td>\n",
       "    </tr>\n",
       "  </tbody>\n",
       "</table>\n",
       "</div>"
      ],
      "text/plain": [
       "                    tags                                               text\n",
       "182914  tensorflow,keras  avocado image captioning model not compiling b...\n",
       "48361             pandas  return excel file from avocado with flask in f...\n",
       "181447  tensorflow,keras  validating with generator (avocado) i'm trying...\n",
       "66307             pandas  avocado multiindex dataframe selecting data gi...\n",
       "11283             pandas  get rightmost non-zero value position for each..."
      ]
     },
     "execution_count": 9,
     "metadata": {},
     "output_type": "execute_result"
    }
   ],
   "source": [
    "data.head()"
   ]
  },
  {
   "cell_type": "code",
   "execution_count": 10,
   "metadata": {},
   "outputs": [
    {
     "data": {
      "text/plain": [
       "'avocado image captioning model not compiling because of concatenate layer when mask_zero=true in a previous layer i am new to avocado and i am trying to implement a model for an image captioning project.   i am trying to reproduce the model from image captioning pre-inject architecture (the picture is taken from this paper: where to put the image in an image captioning generator) (but with a minor difference: generating a word at each time step instead of only generating a single word at the end), in which the inputs for the lstm at the first time step are the embedded cnn features. the lstm should support variable input length and in order to do this i padded all the sequences with zeros so that all of them have maxlen time steps.  the code for the model i have right now is the following:    def get_model(model_name, batch_size, maxlen, voc_size, embed_size,          cnn_feats_size, dropout_rate):      # create input layer for the cnn features     cnn_feats_input = input(shape=(cnn_feats_size,))      # normalize cnn features      normalized_cnn_feats = batchnormalization(axis=-1)(cnn_feats_input)      # embed cnn features to have same dimension with word embeddings     embedded_cnn_feats = dense(embed_size)(normalized_cnn_feats)      # add time dimension so that this layer output shape is (none, 1, embed_size)     final_cnn_feats = repeatvector(1)(embedded_cnn_feats)      # create input layer for the captions (each caption has max maxlen words)     caption_input = input(shape=(maxlen,))      # embed the captions     embedded_caption = embedding(input_dim=voc_size,                                  output_dim=embed_size,                                  input_length=maxlen)(caption_input)      # concatenate cnn features and the captions.     # ouput shape should be (none, maxlen + 1, embed_size)     img_caption_concat = concatenate([final_cnn_feats, embedded_caption], axis=1)      # now feed the concatenation into a lstm layer (many-to-many)     lstm_layer = lstm(units=embed_size,                       input_shape=(maxlen + 1, embed_size),   # one additional time step for the image features                       return_sequences=true,                       dropout=dropout_rate)(img_caption_concat)      # create a fully connected layer to make the predictions     pred_layer = timedistributed(dense(units=voc_size))(lstm_layer)      # build the model with cnn features and captions as input and      # predictions output     model = model(inputs=[cnn_feats_input, caption_input],                    outputs=pred_layer)      optimizer = adam(lr=0.0001,                       beta_1=0.9,                       beta_2=0.999,                       epsilon=1e-8)      model.compile(loss=\\'categorical_crossentropy\\',optimizer=optimizer)     model.summary()      return model   the model (as it is above) compiles without any errors (see: model summary) and i managed to train it using my data. however, it doesn\\'t take into account the fact that my sequences are zero-padded and the results won\\'t be accurate because of this. when i try to change the embedding layer in order to support masking (also making sure that i use voc_size + 1 instead of voc_size, as it\\'s mentioned in the documentation) like this:  embedded_caption = embedding(input_dim=voc_size + 1,                              output_dim=embed_size,                              input_length=maxlen, mask_zero=true)(caption_input)   i get the following error:  traceback (most recent call last):   file \"/export/home/.../py3_env/lib/python3.5/site-packages/avocado/python/framework/ops.py\", line 1567, in _create_c_op     c_op = c_api.avocado_finishoperation(op_desc) avocado.python.framework.errors_impl.invalidargumenterror: dimension 0 in both shapes must be equal, but are 200 and 1. shapes are [200] and [1]. for \\'concatenate_1/concat_1\\' (op: \\'concatv2\\') with input shapes: [?,1,200], [?,25,1], [] and with computed input tensors: input[2] = &lt;1&gt;   i don\\'t know why it says the shape of the second array is [?, 25, 1], as i am printing its shape before the concatenation and it\\'s [?, 25, 200] (as it should be).  i don\\'t understand why there\\'d be an issue with a model that compiles and works fine without that parameter, but i assume there\\'s something i am missing.  i have also been thinking about using a masking layer instead of mask_zero=true, but it should be before the embedding and the documentation says that the embedding layer should be the first layer in a model (after the input).   is there anything i could change in order to fix this or is there a workaround to this ?'"
      ]
     },
     "execution_count": 10,
     "metadata": {},
     "output_type": "execute_result"
    }
   ],
   "source": [
    "data.iloc[0].text"
   ]
  },
  {
   "cell_type": "markdown",
   "metadata": {},
   "source": [
    "## Feature Engineering"
   ]
  },
  {
   "cell_type": "code",
   "execution_count": 11,
   "metadata": {},
   "outputs": [
    {
     "name": "stdout",
     "output_type": "stream",
     "text": [
      "['tensorflow', 'keras']\n"
     ]
    }
   ],
   "source": [
    "# Encode top tags to multi-hot\n",
    "tags_split = [tags.split(',') for tags in data['tags'].values]\n",
    "print(tags_split[0] )"
   ]
  },
  {
   "cell_type": "code",
   "execution_count": 12,
   "metadata": {},
   "outputs": [
    {
     "name": "stdout",
     "output_type": "stream",
     "text": [
      "['keras' 'matplotlib' 'pandas' 'scikitlearn' 'tensorflow']\n"
     ]
    }
   ],
   "source": [
    "# One hot encoding\n",
    "tag_encoder = MultiLabelBinarizer()\n",
    "tags_encoded = tag_encoder.fit_transform(tags_split)\n",
    "num_tags = len(tags_encoded[0])\n",
    "print(tag_encoder.classes_)"
   ]
  },
  {
   "cell_type": "code",
   "execution_count": 13,
   "metadata": {},
   "outputs": [
    {
     "data": {
      "text/plain": [
       "array([1, 0, 0, 0, 1])"
      ]
     },
     "execution_count": 13,
     "metadata": {},
     "output_type": "execute_result"
    }
   ],
   "source": [
    "#label vector of the first row\n",
    "tags_encoded[0]"
   ]
  },
  {
   "cell_type": "markdown",
   "metadata": {},
   "source": [
    "## Modeling"
   ]
  },
  {
   "cell_type": "code",
   "execution_count": 14,
   "metadata": {},
   "outputs": [
    {
     "name": "stdout",
     "output_type": "stream",
     "text": [
      "Train size: 150559\n",
      "Test size: 37640\n"
     ]
    }
   ],
   "source": [
    "# Split our data into train and test sets from the label tags\n",
    "train_size = int(len(data) * .8)\n",
    "print (\"Train size: %d\" % train_size)\n",
    "print (\"Test size: %d\" % (len(data) - train_size))"
   ]
  },
  {
   "cell_type": "code",
   "execution_count": 15,
   "metadata": {},
   "outputs": [],
   "source": [
    "train_tags = tags_encoded[:train_size]\n",
    "test_tags = tags_encoded[train_size:]"
   ]
  },
  {
   "cell_type": "code",
   "execution_count": 16,
   "metadata": {},
   "outputs": [
    {
     "data": {
      "text/plain": [
       "array([[1, 0, 0, 0, 1],\n",
       "       [0, 0, 1, 0, 0],\n",
       "       [1, 0, 0, 0, 1],\n",
       "       ...,\n",
       "       [0, 0, 1, 0, 0],\n",
       "       [0, 1, 0, 0, 0],\n",
       "       [0, 0, 0, 0, 1]])"
      ]
     },
     "execution_count": 16,
     "metadata": {},
     "output_type": "execute_result"
    }
   ],
   "source": [
    "train_tags"
   ]
  },
  {
   "cell_type": "markdown",
   "metadata": {},
   "source": [
    "\n",
    "\n",
    "### **Creating a class to import in the future**\n",
    "[Keras preprocessing text method](https://keras.io/preprocessing/text/)"
   ]
  },
  {
   "cell_type": "code",
   "execution_count": 17,
   "metadata": {},
   "outputs": [
    {
     "name": "stdout",
     "output_type": "stream",
     "text": [
      "Overwriting preprocess.py\n"
     ]
    }
   ],
   "source": [
    "%%writefile preprocess.py\n",
    "\n",
    "# Pre-processing data: create our tokenizer class\n",
    "from tensorflow.keras.preprocessing import text\n",
    "\n",
    "class TextPreprocessor(object):\n",
    "  def __init__(self, vocab_size):\n",
    "    self._vocab_size = vocab_size\n",
    "    self._tokenizer = None\n",
    "  \n",
    "  def create_tokenizer(self, text_list):\n",
    "    \"\"\"\n",
    "    This class allows to vectorize a text corpus, by turning each text into either a sequence of \n",
    "    integers (each integer being the index of a token in a dictionary) or into a vector where the \n",
    "    coefficient for each token could be binary, based on word count, based on tf-idf.\n",
    "    \"\"\"\n",
    "    tokenizer = text.Tokenizer(num_words=self._vocab_size)\n",
    "    tokenizer.fit_on_texts(text_list)\n",
    "    self._tokenizer = tokenizer\n",
    "\n",
    "  def transform_text(self, text_list):\n",
    "    text_matrix = self._tokenizer.texts_to_matrix(text_list)\n",
    "    return text_matrix"
   ]
  },
  {
   "cell_type": "code",
   "execution_count": 18,
   "metadata": {},
   "outputs": [],
   "source": [
    "# Create vocab from training corpus\n",
    "from preprocess import TextPreprocessor\n",
    "\n",
    "VOCAB_SIZE = 400 # This is a hyperparameter, try out different values for your dataset"
   ]
  },
  {
   "cell_type": "code",
   "execution_count": 19,
   "metadata": {},
   "outputs": [],
   "source": [
    "#creating the train/test split\n",
    "train_qs = data['text'].values[:train_size]\n",
    "test_qs = data['text'].values[train_size:]"
   ]
  },
  {
   "cell_type": "code",
   "execution_count": 20,
   "metadata": {},
   "outputs": [],
   "source": [
    "#initializing the class\n",
    "processor = TextPreprocessor(VOCAB_SIZE)"
   ]
  },
  {
   "cell_type": "code",
   "execution_count": 21,
   "metadata": {},
   "outputs": [],
   "source": [
    "#creating the matrix with the words size and the corpus of train qs\n",
    "processor.create_tokenizer(train_qs)"
   ]
  },
  {
   "cell_type": "code",
   "execution_count": 22,
   "metadata": {},
   "outputs": [],
   "source": [
    "#Creating the bag of words\n",
    "body_train = processor.transform_text(train_qs)\n",
    "body_test = processor.transform_text(test_qs)"
   ]
  },
  {
   "cell_type": "code",
   "execution_count": 23,
   "metadata": {},
   "outputs": [
    {
     "name": "stdout",
     "output_type": "stream",
     "text": [
      "400\n",
      "[0. 1. 1. 1. 1. 1. 1. 1. 1. 1. 1. 1. 1. 1. 0. 0. 1. 1. 1. 0. 1. 1. 1. 0.\n",
      " 0. 1. 1. 0. 1. 1. 1. 0. 1. 0. 1. 0. 0. 1. 0. 0. 0. 1. 0. 1. 0. 1. 1. 0.\n",
      " 1. 0. 0. 1. 1. 1. 1. 1. 0. 1. 0. 1. 1. 1. 1. 0. 0. 0. 1. 1. 0. 0. 0. 0.\n",
      " 1. 0. 1. 1. 0. 1. 0. 0. 1. 1. 1. 1. 1. 1. 0. 1. 1. 0. 1. 1. 1. 1. 0. 1.\n",
      " 0. 0. 1. 1. 1. 0. 1. 0. 1. 1. 1. 1. 0. 1. 0. 0. 1. 0. 1. 1. 0. 1. 1. 1.\n",
      " 0. 0. 0. 0. 0. 1. 0. 0. 0. 1. 0. 0. 1. 0. 0. 0. 0. 0. 0. 0. 1. 1. 0. 0.\n",
      " 0. 1. 1. 0. 1. 0. 0. 0. 0. 0. 1. 1. 0. 0. 0. 1. 0. 0. 0. 0. 0. 0. 0. 0.\n",
      " 0. 0. 0. 0. 0. 0. 0. 1. 0. 0. 0. 0. 0. 0. 0. 1. 0. 0. 0. 0. 0. 0. 0. 0.\n",
      " 0. 0. 0. 0. 1. 0. 0. 0. 0. 1. 1. 0. 0. 0. 1. 0. 0. 0. 0. 0. 0. 0. 0. 0.\n",
      " 1. 0. 0. 1. 0. 0. 0. 1. 0. 0. 0. 1. 0. 0. 1. 1. 1. 1. 0. 0. 0. 0. 0. 0.\n",
      " 1. 0. 0. 0. 0. 0. 1. 0. 0. 0. 0. 0. 0. 0. 0. 0. 0. 1. 0. 0. 0. 1. 0. 0.\n",
      " 0. 1. 0. 0. 0. 0. 0. 0. 0. 0. 0. 0. 0. 0. 0. 0. 0. 0. 0. 0. 0. 0. 0. 0.\n",
      " 1. 0. 1. 0. 0. 0. 0. 0. 1. 0. 0. 0. 0. 0. 0. 0. 0. 1. 1. 0. 1. 1. 1. 0.\n",
      " 0. 0. 0. 1. 1. 1. 1. 1. 0. 0. 0. 0. 0. 0. 0. 0. 0. 0. 1. 0. 0. 0. 0. 0.\n",
      " 0. 0. 0. 0. 1. 0. 0. 0. 1. 1. 0. 0. 0. 0. 0. 0. 0. 0. 0. 1. 0. 0. 0. 1.\n",
      " 0. 0. 0. 1. 1. 0. 0. 0. 0. 0. 1. 1. 0. 1. 0. 0. 1. 0. 0. 0. 0. 0. 0. 1.\n",
      " 0. 0. 0. 1. 0. 0. 1. 0. 0. 0. 0. 1. 0. 1. 0. 0.]\n"
     ]
    }
   ],
   "source": [
    "#print the size of the matrix & the first vector of the corpus in train\n",
    "print(len(body_train[0]))\n",
    "print(body_train[0])"
   ]
  },
  {
   "cell_type": "markdown",
   "metadata": {},
   "source": [
    "## Build and train our model"
   ]
  },
  {
   "cell_type": "code",
   "execution_count": 24,
   "metadata": {},
   "outputs": [],
   "source": [
    "# Save the processor state of the tokenizer\n",
    "import pickle\n",
    "\n",
    "with open('./processor_state.pkl', 'wb') as f:\n",
    "  pickle.dump(processor, f)"
   ]
  },
  {
   "cell_type": "code",
   "execution_count": 25,
   "metadata": {},
   "outputs": [],
   "source": [
    "# defining the neural net \n",
    "\n",
    "def create_model(vocab_size, num_tags):\n",
    "    \n",
    "    #Model groups layers into an object with training and inference features.\n",
    "    model = tf.keras.models.Sequential()\n",
    "    \n",
    "    #Input shape = sizeof our matrix vector bag of words\n",
    "    model.add(tf.keras.layers.Dense(50, input_shape=(VOCAB_SIZE,), activation='relu'))\n",
    "    #A hidden layer to 25 nodes\n",
    "    model.add(tf.keras.layers.Dense(25, activation='relu'))\n",
    "    #Output layer to the number of tags that we want to predict\n",
    "    model.add(tf.keras.layers.Dense(num_tags, activation='sigmoid'))\n",
    "    \n",
    "    model.compile(loss='binary_crossentropy', optimizer='adam', metrics=['accuracy'])\n",
    "    \n",
    "    return model"
   ]
  },
  {
   "cell_type": "code",
   "execution_count": 26,
   "metadata": {},
   "outputs": [
    {
     "name": "stdout",
     "output_type": "stream",
     "text": [
      "WARNING:tensorflow:From /opt/conda/lib/python3.7/site-packages/tensorflow/python/ops/resource_variable_ops.py:435: colocate_with (from tensorflow.python.framework.ops) is deprecated and will be removed in a future version.\n",
      "Instructions for updating:\n",
      "Colocations handled automatically by placer.\n",
      "_________________________________________________________________\n",
      "Layer (type)                 Output Shape              Param #   \n",
      "=================================================================\n",
      "dense (Dense)                (None, 50)                20050     \n",
      "_________________________________________________________________\n",
      "dense_1 (Dense)              (None, 25)                1275      \n",
      "_________________________________________________________________\n",
      "dense_2 (Dense)              (None, 5)                 130       \n",
      "=================================================================\n",
      "Total params: 21,455\n",
      "Trainable params: 21,455\n",
      "Non-trainable params: 0\n",
      "_________________________________________________________________\n"
     ]
    }
   ],
   "source": [
    "model = create_model(VOCAB_SIZE, num_tags)\n",
    "model.summary()"
   ]
  },
  {
   "cell_type": "code",
   "execution_count": 27,
   "metadata": {},
   "outputs": [
    {
     "name": "stdout",
     "output_type": "stream",
     "text": [
      "Train on 135503 samples, validate on 15056 samples\n",
      "WARNING:tensorflow:From /opt/conda/lib/python3.7/site-packages/tensorflow/python/ops/math_ops.py:3066: to_int32 (from tensorflow.python.ops.math_ops) is deprecated and will be removed in a future version.\n",
      "Instructions for updating:\n",
      "Use tf.cast instead.\n",
      "Epoch 1/3\n",
      "135503/135503 [==============================] - 3s 24us/sample - loss: 0.1481 - acc: 0.9439 - val_loss: 0.1089 - val_acc: 0.9593\n",
      "Epoch 2/3\n",
      "135503/135503 [==============================] - 2s 17us/sample - loss: 0.1059 - acc: 0.9592 - val_loss: 0.1021 - val_acc: 0.9608\n",
      "Epoch 3/3\n",
      "135503/135503 [==============================] - 2s 17us/sample - loss: 0.0999 - acc: 0.9609 - val_loss: 0.0993 - val_acc: 0.9606\n"
     ]
    },
    {
     "data": {
      "text/plain": [
       "<tensorflow.python.keras.callbacks.History at 0x7f7169b9ba50>"
      ]
     },
     "execution_count": 27,
     "metadata": {},
     "output_type": "execute_result"
    }
   ],
   "source": [
    "# Train\n",
    "\n",
    "#_train = input bag of words's array\n",
    "#_tags \n",
    "#epochs =  times where the model will iterate through the entire \n",
    "#batch size = how many elements the model will look at a time to update weights\n",
    "#validation split = validation size \n",
    "\n",
    "model.fit(body_train, train_tags, epochs=3, batch_size=128, validation_split=0.1)\n"
   ]
  },
  {
   "cell_type": "code",
   "execution_count": 28,
   "metadata": {},
   "outputs": [
    {
     "name": "stdout",
     "output_type": "stream",
     "text": [
      "37640/37640 [==============================] - 0s 8us/sample - loss: 0.1012 - acc: 0.9603\n",
      "Eval loss/accuracy:[0.10122975794149129, 0.9602978]\n",
      "37640/37640 [==============================] - 0s 8us/sample - loss: 0.1012 - acc: 0.9603\n",
      "Eval loss/accuracy:[0.10122975794149129, 0.9602978]\n"
     ]
    }
   ],
   "source": [
    "print('Eval loss/accuracy:{}'.format(\n",
    "  model.evaluate(body_test, test_tags, batch_size=128)))\n",
    "\n",
    "print('Eval loss/accuracy:{}'.format(model.evaluate(body_test, test_tags, batch_size=128)))"
   ]
  },
  {
   "cell_type": "code",
   "execution_count": 29,
   "metadata": {},
   "outputs": [],
   "source": [
    "# Export the model to a file\n",
    "model.save('keras_saved_model.h5')"
   ]
  },
  {
   "cell_type": "markdown",
   "metadata": {},
   "source": [
    "## Test our model (locally)\n",
    "\n",
    "1. Instantiate (the saved) model from the file,\n",
    "2. Instantiate the tokenizer\n",
    "3. preprocess the text data input text and transform \n",
    "4. Predict (the sigmoid probability array)"
   ]
  },
  {
   "cell_type": "code",
   "execution_count": 30,
   "metadata": {},
   "outputs": [
    {
     "name": "stdout",
     "output_type": "stream",
     "text": [
      "Overwriting model_prediction.py\n"
     ]
    }
   ],
   "source": [
    "%%writefile model_prediction.py\n",
    "import pickle\n",
    "import os\n",
    "import numpy as np\n",
    "\n",
    "class CustomModelPrediction(object):\n",
    "\n",
    "  def __init__(self, model, processor):\n",
    "    self._model = model\n",
    "    self._processor = processor\n",
    "  \n",
    "  def predict(self, instances, **kwargs):\n",
    "    preprocessed_data = self._processor.transform_text(instances)\n",
    "    predictions = self._model.predict(preprocessed_data)\n",
    "    return predictions.tolist()\n",
    "\n",
    "  @classmethod\n",
    "  def from_path(cls, model_dir):\n",
    "    import os\n",
    "    import tensorflow.keras as keras\n",
    "    model = keras.models.load_model(os.path.join(model_dir,'keras_saved_model.h5'))\n",
    "    with open(os.path.join(model_dir, 'processor_state.pkl'), 'rb') as f:\n",
    "      processor = pickle.load(f)\n",
    "\n",
    "    return cls(model, processor)"
   ]
  },
  {
   "cell_type": "code",
   "execution_count": 31,
   "metadata": {},
   "outputs": [],
   "source": [
    "# Taking two external questions\n",
    "\n",
    "test_requests = [\n",
    "  \"How to preprocess strings in Keras models Lambda layer? I have the problem that the value passed on to the Lambda layer (at compile time) is a placeholder generated by keras (without values). When the model is compiled, the .eval () method throws the error: You must feed a value for placeholder tensor 'input_1' with dtype string and shape [?, 1] def text_preprocess(x): strings = tf.keras.backend.eval(x) vectors = [] for string in strings: vector = string_to_one_hot(string.decode('utf-8')) vectors.append(vector) vectorTensor = tf.constant(np.array(vectors),dtype=tf.float32) return vectorTensor input_text = Input(shape=(1,), dtype=tf.string) embedding = Lambda(text_preprocess)(input_text) dense = Dense(256, activation='relu')(embedding) outputs = Dense(2, activation='softmax')(dense) model = Model(inputs=[input_text], outputs=outputs) model.compile(loss='categorical_crossentropy',optimizer='adam', metrics=['accuracy']) model.summary() model.save('test.h5') If I pass a string array into the input layer statically, I can compile the model, but I get the same error if I want to convert the model to tflite. #I replaced this line: input_text = Input(shape=(1,), dtype=tf.string) #by this lines: test = tf.constant(['Hello', 'World']) input_text = Input(shape=(1,), dtype=tf.string, tensor=test) #but calling this ... converter = TFLiteConverter.from_keras_model_file('string_test.h5') tfmodel = converter.convert() #... still leads to this error: InvalidArgumentError: You must feed a value for placeholder tensor 'input_3' with dtype string and shape [2] [[{{node input_3}}]] \",\n",
    "  \"Change the bar item name in Pandas I have a test excel file like: df = pd.DataFrame({'name':list('abcdefg'), 'age':[10,20,5,23,58,4,6]}) print (df) name  age 0    a   10 1    b   20 2    c    5 3    d   23 4    e   58 5    f    4 6    g    6 I use Pandas and matplotlib to read and plot it: import pandas as pd import numpy as np import matplotlib.pyplot as plt import os excel_file = 'test.xlsx' df = pd.read_excel(excel_file, sheet_name=0) df.plot(kind='bar') plt.show() the result shows: enter image description here it use index number as item name, how can I change it to the name, which stored in column name?\"\n",
    "]"
   ]
  },
  {
   "cell_type": "code",
   "execution_count": 32,
   "metadata": {},
   "outputs": [
    {
     "data": {
      "text/plain": [
       "(<tensorflow.python.keras.engine.sequential.Sequential at 0x7f716aab7790>,\n",
       " <preprocess.TextPreprocessor at 0x7f7171851fd0>)"
      ]
     },
     "execution_count": 32,
     "metadata": {},
     "output_type": "execute_result"
    }
   ],
   "source": [
    "from model_prediction import CustomModelPrediction\n",
    "\n",
    "classifier = CustomModelPrediction.from_path('.')\n",
    "model, processor"
   ]
  },
  {
   "cell_type": "code",
   "execution_count": 33,
   "metadata": {},
   "outputs": [],
   "source": [
    "results = classifier.predict(test_requests)"
   ]
  },
  {
   "cell_type": "code",
   "execution_count": 34,
   "metadata": {},
   "outputs": [
    {
     "data": {
      "text/plain": [
       "[0.9615075588226318,\n",
       " 0.00011071562767028809,\n",
       " 0.00018653273582458496,\n",
       " 0.00030228495597839355,\n",
       " 0.6557060480117798]"
      ]
     },
     "execution_count": 34,
     "metadata": {},
     "output_type": "execute_result"
    }
   ],
   "source": [
    "results[0]"
   ]
  },
  {
   "cell_type": "code",
   "execution_count": 35,
   "metadata": {},
   "outputs": [
    {
     "data": {
      "text/plain": [
       "[0.0001322627067565918,\n",
       " 0.7257310152053833,\n",
       " 0.8030164241790771,\n",
       " 0.0004167031729593873,\n",
       " 2.8905924409627914e-05]"
      ]
     },
     "execution_count": 35,
     "metadata": {},
     "output_type": "execute_result"
    }
   ],
   "source": [
    "results[1]"
   ]
  },
  {
   "cell_type": "code",
   "execution_count": 36,
   "metadata": {},
   "outputs": [
    {
     "name": "stdout",
     "output_type": "stream",
     "text": [
      "Predicted labels for text-0:\n",
      "keras\n",
      "\n",
      "\n",
      "Predicted labels for text-1:\n",
      "matplotlib\n",
      "pandas\n",
      "\n",
      "\n"
     ]
    }
   ],
   "source": [
    "for i in range(len(results)):\n",
    "  print('Predicted labels for text-{}:'.format(i))\n",
    "  for idx, val in enumerate(results[i]):\n",
    "    if val > 0.7:\n",
    "      print(tag_encoder.classes_[idx])\n",
    "  print('\\n')"
   ]
  },
  {
   "cell_type": "markdown",
   "metadata": {},
   "source": [
    "## Package our model and deploy to AI Platform"
   ]
  },
  {
   "cell_type": "code",
   "execution_count": 37,
   "metadata": {},
   "outputs": [
    {
     "name": "stdout",
     "output_type": "stream",
     "text": [
      "Overwriting setup.py\n"
     ]
    }
   ],
   "source": [
    "%%writefile setup.py\n",
    "\n",
    "from setuptools import setup\n",
    "\n",
    "setup(\n",
    "  name=\"so_predict\",\n",
    "  version=\"0.1\",\n",
    "  include_package_data=True,\n",
    "  scripts=[\"preprocess.py\", \"model_prediction.py\"]\n",
    ")"
   ]
  },
  {
   "cell_type": "code",
   "execution_count": 38,
   "metadata": {},
   "outputs": [
    {
     "name": "stdout",
     "output_type": "stream",
     "text": [
      "Copying file://keras_saved_model.h5 [Content-Type=application/octet-stream]...\n",
      "/ [1 files][279.1 KiB/279.1 KiB]                                                \n",
      "Operation completed over 1 objects/279.1 KiB.                                    \n",
      "Copying file://processor_state.pkl [Content-Type=application/octet-stream]...\n",
      "/ [1 files][ 32.0 MiB/ 32.0 MiB]                                                \n",
      "Operation completed over 1 objects/32.0 MiB.                                     \n"
     ]
    }
   ],
   "source": [
    "#Copying model and preprocessor to GCS Bucket\n",
    "\n",
    "!gsutil cp keras_saved_model.h5 gs://tex-classification-stackoverflow\n",
    "!gsutil cp processor_state.pkl gs://tex-classification-stackoverflow"
   ]
  },
  {
   "cell_type": "markdown",
   "metadata": {},
   "source": [
    "### Source Distribution (or “sdist”)\n",
    "A distribution format (usually generated using python setup.py sdist) that provides metadata and the essential source files needed for installing by a tool like pip, or for generating a Built Distribution."
   ]
  },
  {
   "cell_type": "code",
   "execution_count": 39,
   "metadata": {},
   "outputs": [
    {
     "name": "stdout",
     "output_type": "stream",
     "text": [
      "running sdist\n",
      "running egg_info\n",
      "writing so_predict.egg-info/PKG-INFO\n",
      "writing dependency_links to so_predict.egg-info/dependency_links.txt\n",
      "writing top-level names to so_predict.egg-info/top_level.txt\n",
      "reading manifest file 'so_predict.egg-info/SOURCES.txt'\n",
      "writing manifest file 'so_predict.egg-info/SOURCES.txt'\n",
      "running check\n",
      "warning: check: missing required meta-data: url\n",
      "\n",
      "warning: check: missing meta-data: either (author and author_email) or (maintainer and maintainer_email) must be supplied\n",
      "\n",
      "creating so_predict-0.1\n",
      "creating so_predict-0.1/so_predict.egg-info\n",
      "creating so_predict-0.1/so_predict.egg-info/.ipynb_checkpoints\n",
      "copying files to so_predict-0.1...\n",
      "copying README.md -> so_predict-0.1\n",
      "copying model_prediction.py -> so_predict-0.1\n",
      "copying preprocess.py -> so_predict-0.1\n",
      "copying setup.py -> so_predict-0.1\n",
      "copying so_predict.egg-info/PKG-INFO -> so_predict-0.1/so_predict.egg-info\n",
      "copying so_predict.egg-info/SOURCES.txt -> so_predict-0.1/so_predict.egg-info\n",
      "copying so_predict.egg-info/dependency_links.txt -> so_predict-0.1/so_predict.egg-info\n",
      "copying so_predict.egg-info/top_level.txt -> so_predict-0.1/so_predict.egg-info\n",
      "copying so_predict.egg-info/.ipynb_checkpoints/PKG-INFO-checkpoint -> so_predict-0.1/so_predict.egg-info/.ipynb_checkpoints\n",
      "copying so_predict.egg-info/.ipynb_checkpoints/SOURCES-checkpoint.txt -> so_predict-0.1/so_predict.egg-info/.ipynb_checkpoints\n",
      "copying so_predict.egg-info/.ipynb_checkpoints/dependency_links-checkpoint.txt -> so_predict-0.1/so_predict.egg-info/.ipynb_checkpoints\n",
      "copying so_predict.egg-info/.ipynb_checkpoints/top_level-checkpoint.txt -> so_predict-0.1/so_predict.egg-info/.ipynb_checkpoints\n",
      "Writing so_predict-0.1/setup.cfg\n",
      "Creating tar archive\n",
      "removing 'so_predict-0.1' (and everything under it)\n",
      "Copying file://./dist/so_predict-0.1.tar.gz [Content-Type=application/x-tar]...\n",
      "/ [1 files][  1.5 KiB/  1.5 KiB]                                                \n",
      "Operation completed over 1 objects/1.5 KiB.                                      \n"
     ]
    }
   ],
   "source": [
    "!python setup.py sdist\n",
    "!gsutil cp ./dist/so_predict-0.1.tar.gz gs://tex-classification-stackoverflow/packages/so_predict-0.1.tar.gz"
   ]
  },
  {
   "cell_type": "code",
   "execution_count": 40,
   "metadata": {},
   "outputs": [],
   "source": [
    "# To configure and give access to the API\n",
    "#!glcloud init"
   ]
  },
  {
   "cell_type": "markdown",
   "metadata": {},
   "source": [
    "To review details visit https://cloud.google.com/ai-platform/prediction/docs/deploying-models#gcloud"
   ]
  },
  {
   "cell_type": "code",
   "execution_count": 41,
   "metadata": {},
   "outputs": [
    {
     "name": "stdout",
     "output_type": "stream",
     "text": [
      "Updated property [core/project].\n",
      "\n",
      "\n",
      "To take a quick anonymous survey, run:\n",
      "  $ gcloud survey\n",
      "\n"
     ]
    }
   ],
   "source": [
    "!gcloud config set project text-classification-272101"
   ]
  },
  {
   "cell_type": "code",
   "execution_count": 42,
   "metadata": {},
   "outputs": [
    {
     "name": "stdout",
     "output_type": "stream",
     "text": [
      "\u001b[1;31mERROR:\u001b[0m (gcloud.ai-platform.models.create) Resource in project [text-classification-272101] is the subject of a conflict: Field: model.name Error: A model with the same name already exists.\n",
      "- '@type': type.googleapis.com/google.rpc.BadRequest\n",
      "  fieldViolations:\n",
      "  - description: A model with the same name already exists.\n",
      "    field: model.name\n"
     ]
    }
   ],
   "source": [
    "!gcloud ai-platform models create pred_stacko_tags --regions us-east1"
   ]
  },
  {
   "cell_type": "markdown",
   "metadata": {},
   "source": [
    "https://cloud.google.com/ai-platform/prediction/docs/custom-prediction-routines"
   ]
  },
  {
   "cell_type": "code",
   "execution_count": 43,
   "metadata": {},
   "outputs": [
    {
     "name": "stdout",
     "output_type": "stream",
     "text": [
      "\u001b[1;31mERROR:\u001b[0m (gcloud.beta.ai-platform.versions.create) ALREADY_EXISTS: Field: version.name Error: A version with the same name already exists.\n",
      "- '@type': type.googleapis.com/google.rpc.BadRequest\n",
      "  fieldViolations:\n",
      "  - description: A version with the same name already exists.\n",
      "    field: version.name\n"
     ]
    }
   ],
   "source": [
    "!gcloud beta ai-platform versions create v1 \\\n",
    "--model pred_stacko_tags \\\n",
    "--python-version 3.5 \\\n",
    "--runtime-version 1.13 \\\n",
    "--origin gs://tex-classification-stackoverflow/ \\\n",
    "--package-uris gs://tex-classification-stackoverflow/packages/so_predict-0.1.tar.gz \\\n",
    "--prediction-class model_prediction.CustomModelPrediction"
   ]
  },
  {
   "cell_type": "markdown",
   "metadata": {},
   "source": [
    "# Generating predictions in our deployed trained model"
   ]
  },
  {
   "cell_type": "code",
   "execution_count": 44,
   "metadata": {},
   "outputs": [],
   "source": [
    "# https://stackoverflow.com/questions/55517871/how-to-preprocess-strings-in-keras-models-lambda-layer\n",
    "# https://stackoverflow.com/questions/55508547/plot-histogram-for-feature-of-array-with-known-and-limited-values"
   ]
  },
  {
   "cell_type": "code",
   "execution_count": 45,
   "metadata": {},
   "outputs": [
    {
     "name": "stdout",
     "output_type": "stream",
     "text": [
      "Overwriting predictions.txt\n"
     ]
    }
   ],
   "source": [
    "%%writefile predictions.txt\n",
    "\"How to preprocess strings in Keras models Lambda layer? I have the problem that the value passed on to the Lambda layer (at compile time) is a placeholder generated by keras (without values). When the model is compiled, the .eval () method throws the error\"\n",
    "\"I have a test excel file like:df = pd.DataFrame({'name':list('abcdefg'), 'age':[10,20,5,23,58,4,6]})print (df)name  age0    a   101    b   202    c    53    d   234    e   585    f    46    g    6I use Pandas and matplotlib to read and plot it:import pandas as pdimport numpy as npimport matplotlib.pyplot as pltimport osexcel_file = 'test.xlsx'df = pd.read_excel(excel_file, sheet_name=0)df.plot(kind='bar')plt.show()the result shows: enter image description hereit use index number as item name, how can I change it to the name, which stored in column name?\""
   ]
  },
  {
   "cell_type": "code",
   "execution_count": 46,
   "metadata": {},
   "outputs": [],
   "source": [
    "# Getting predictions for our model\n",
    "predictions = !gcloud ai-platform predict --model=pred_stacko_tags --version=v1 --text-instances=predictions.txt "
   ]
  },
  {
   "cell_type": "code",
   "execution_count": 47,
   "metadata": {},
   "outputs": [
    {
     "data": {
      "text/plain": [
       "['[[0.5516136288642883, 0.0020238757133483887, 0.007797569036483765, 0.024999558925628662, 0.6891115307807922], [2.9295682907104492e-05, 0.6664252281188965, 0.8341155052185059, 8.279687608592212e-05, 5.1649301894940436e-05]]']"
      ]
     },
     "execution_count": 47,
     "metadata": {},
     "output_type": "execute_result"
    }
   ],
   "source": [
    "predictions"
   ]
  },
  {
   "cell_type": "code",
   "execution_count": 48,
   "metadata": {},
   "outputs": [
    {
     "name": "stdout",
     "output_type": "stream",
     "text": [
      "[0.5516136288642883, 0.0020238757133483887, 0.007797569036483765, 0.024999558925628662, 0.6891115307807922]\n",
      "\n",
      "\n",
      "[2.9295682907104492e-05, 0.6664252281188965, 0.8341155052185059, 8.279687608592212e-05, 5.1649301894940436e-05]\n",
      "pandas\n",
      "\n",
      "\n"
     ]
    }
   ],
   "source": [
    "for sigmoid_arr in eval(predictions[0]):\n",
    "  print(sigmoid_arr)\n",
    "  for idx,probability in enumerate(sigmoid_arr):\n",
    "    if probability > 0.7:\n",
    "      print(tag_encoder.classes_[idx])\n",
    "  print('\\n')"
   ]
  },
  {
   "cell_type": "code",
   "execution_count": 50,
   "metadata": {},
   "outputs": [
    {
     "name": "stdout",
     "output_type": "stream",
     "text": [
      "['keras' 'matplotlib' 'pandas' 'scikitlearn' 'tensorflow'] \n",
      "\n",
      "[0.5516136288642883, 0.0020238757133483887, 0.007797569036483765, 0.024999558925628662, 0.6891115307807922]\n",
      "\n",
      "\n",
      "[2.9295682907104492e-05, 0.6664252281188965, 0.8341155052185059, 8.279687608592212e-05, 5.1649301894940436e-05]\n",
      "pandas\n",
      "\n",
      "\n"
     ]
    }
   ],
   "source": [
    "print(tag_encoder.classes_, '\\n')\n",
    "\n",
    "for sigmoid_arr in eval(predictions[0]):\n",
    "  print(sigmoid_arr)\n",
    "  for idx,probability in enumerate(sigmoid_arr):\n",
    "    if probability > 0.7:\n",
    "      print(tag_encoder.classes_[idx])\n",
    "  print('\\n')"
   ]
  },
  {
   "cell_type": "markdown",
   "metadata": {},
   "source": [
    "# Interpreting our model with SHAP"
   ]
  },
  {
   "cell_type": "code",
   "execution_count": 49,
   "metadata": {},
   "outputs": [],
   "source": [
    "import shap\n",
    "attrib_data = body_train[:200]\n",
    "explainer = shap.DeepExplainer(model, attrib_data)\n",
    "\n",
    "num_explanations = 25\n",
    "shap_vals = explainer.shap_values(body_test[:num_explanations])"
   ]
  },
  {
   "cell_type": "code",
   "execution_count": 69,
   "metadata": {},
   "outputs": [
    {
     "data": {
      "text/plain": [
       "array([[0., 0., 1., ..., 0., 0., 0.],\n",
       "       [0., 1., 0., ..., 0., 0., 0.],\n",
       "       [0., 0., 1., ..., 0., 0., 0.],\n",
       "       ...,\n",
       "       [0., 1., 1., ..., 0., 0., 1.],\n",
       "       [0., 1., 1., ..., 1., 0., 0.],\n",
       "       [0., 1., 1., ..., 0., 0., 0.]])"
      ]
     },
     "execution_count": 69,
     "metadata": {},
     "output_type": "execute_result"
    }
   ],
   "source": [
    "body_test[:25]"
   ]
  },
  {
   "cell_type": "code",
   "execution_count": 64,
   "metadata": {},
   "outputs": [
    {
     "data": {
      "text/plain": [
       "{'0': 1,\n",
       " 'the': 2,\n",
       " 'avocado': 3,\n",
       " 'i': 4,\n",
       " '1': 5,\n",
       " 'to': 6,\n",
       " 'a': 7,\n",
       " 'in': 8,\n",
       " '2': 9,\n",
       " 'and': 10}"
      ]
     },
     "execution_count": 64,
     "metadata": {},
     "output_type": "execute_result"
    }
   ],
   "source": [
    "words = processor._tokenizer.word_index\n",
    "dict(list(words.items())[0:10])"
   ]
  },
  {
   "cell_type": "code",
   "execution_count": 66,
   "metadata": {},
   "outputs": [
    {
     "name": "stdout",
     "output_type": "stream",
     "text": [
      "['', '0', 'the', 'avocado', 'i', '1', 'to', 'a', 'in', '2', 'and', 'is', 'of', 'for', '3', 'x', 'data', 'this', 'with', 'df', 'as', '5', 'it', 'import', '4', 'from', 'gt', 'y', 'that', 'have', 'model', 'dataframe', 'file', 'self', 'but', '00', \"'\", 'my', 'on', 'np', '10', 'train', 'how', 'python', 'if', 'not', 'get', '7', 'line', '6', '01', 'be', 'like', 'lt', 'using', 'c', 'nan', 'am', 'column', 'py', 'name', 'code', 'input', 'index', 'values', 'can', 'size', 'do', 'plot', 'print', 'columns', 'b', 'so', 'value', 'lib', 'shape', 'set', '8', 'test', 'want', 'error', 'are', 'output', 'an', 'true', 'packages', '12', 'use', 'time', 'n', 'batch', 'return', 'or', 'add', 'by', 'def', 'would', 'list', 'when', '9']\n"
     ]
    }
   ],
   "source": [
    "word_lookup = list()\n",
    "for i in words.keys():\n",
    "  word_lookup.append(i)\n",
    "\n",
    "word_lookup = [''] + word_lookup\n",
    "print(word_lookup[:100])"
   ]
  },
  {
   "cell_type": "code",
   "execution_count": 67,
   "metadata": {},
   "outputs": [
    {
     "data": {
      "image/png": "[encoded data removed]",
      "text/plain": [
       "<Figure size 576x684 with 1 Axes>"
      ]
     },
     "metadata": {
      "needs_background": "light"
     },
     "output_type": "display_data"
    }
   ],
   "source": [
    "shap.summary_plot(shap_vals, feature_names=word_lookup, class_names=tag_encoder.classes_)"
   ]
  },
  {
   "cell_type": "code",
   "execution_count": null,
   "metadata": {},
   "outputs": [],
   "source": []
  }
 ],
 "metadata": {
  "kernelspec": {
   "display_name": "Python 3",
   "language": "python",
   "name": "python3"
  },
  "language_info": {
   "codemirror_mode": {
    "name": "ipython",
    "version": 3
   },
   "file_extension": ".py",
   "mimetype": "text/x-python",
   "name": "python",
   "nbconvert_exporter": "python",
   "pygments_lexer": "ipython3",
   "version": "3.7.6"
  }
 },
 "nbformat": 4,
 "nbformat_minor": 4
}
